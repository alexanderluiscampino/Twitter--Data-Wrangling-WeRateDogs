{
 "cells": [
  {
   "cell_type": "code",
   "execution_count": 2,
   "metadata": {},
   "outputs": [],
   "source": [
    "#from IPython.display import Image\n",
    "#Image(\"output/piechart.png\")\n",
    "import pandas as pd\n",
    "dog_breed_stats_df = pd.read_csv('dog_breed_stats.csv', index_col = 0)\n",
    "dog_stages_stats_df = pd.read_csv('dog_stages_stats.csv', index_col = 0)\n",
    "weekday_stats_df = pd.read_csv('weekday_stats_df.csv', index_col = 0)\n",
    "twitter_archive_master = pd.read_csv('twitter_archive_master.csv')"
   ]
  },
  {
   "cell_type": "markdown",
   "metadata": {},
   "source": [
    "# Data Analytics and Visualization"
   ]
  },
  {
   "cell_type": "markdown",
   "metadata": {},
   "source": [
    "After the whole Gathering, Assessing and Claning process we end up with a dataset with 2142 observations. These are tweets from the WeRateDogs twitter account (https://twitter.com/dog_rates).\n",
    "\n",
    "The most important Information gathered was kept on a tidy concise table. The author made an effort to remove all tweets not related to dogs. All reteweets were removed, just original tweets were kept on the dataset. All tweets kept do have the special rating system offered by the page author, http://knowyourmeme.com/memes/theyre-good-dogs-brent.\n",
    "\n",
    "We will now proceed with a short evaluation of the data gathered and offer some insights. \n",
    "\n",
    "## Most Twitted Dog Breed\n",
    "\n",
    "Ignoring the observations which did not produce any dog breed (457 - 21.33% of all observations), we have the following counts on the Top 6:\n",
    "\n",
    "    - Golden Retriever                  158\n",
    "    - Labrador Retriever                108\n",
    "    - Pembroke                           95\n",
    "    - Chihuahua                          91\n",
    "    - Pug                                62\n",
    "    - Toy Poodle                         51\n",
    "\n",
    "Golden Retrievers are Labrador Retrievers are definetely the most popular dogs on Twitter. They out number all other breeds by a lot. The author of this study agrees with this data, Retrievers are definitely the coolest dogs out there. (The author is biased). We have a total of 112 different Dog Breeds on our dataset. Bellow is shown the whole dataset of all our breed of dogs and their respective statistics."
   ]
  },
  {
   "cell_type": "code",
   "execution_count": 3,
   "metadata": {},
   "outputs": [
    {
     "data": {
      "text/html": [
       "<div>\n",
       "<style>\n",
       "    .dataframe thead tr:only-child th {\n",
       "        text-align: right;\n",
       "    }\n",
       "\n",
       "    .dataframe thead th {\n",
       "        text-align: left;\n",
       "    }\n",
       "\n",
       "    .dataframe tbody tr th {\n",
       "        vertical-align: top;\n",
       "    }\n",
       "</style>\n",
       "<table border=\"1\" class=\"dataframe\">\n",
       "  <thead>\n",
       "    <tr style=\"text-align: right;\">\n",
       "      <th></th>\n",
       "      <th>count</th>\n",
       "      <th>count_per</th>\n",
       "      <th>favorite_count_sum</th>\n",
       "      <th>retweet_count_sum</th>\n",
       "      <th>rating_num_mean</th>\n",
       "      <th>rating_den_mean</th>\n",
       "      <th>favorite_count_mean</th>\n",
       "      <th>retweet_count_mean</th>\n",
       "    </tr>\n",
       "  </thead>\n",
       "  <tbody>\n",
       "    <tr>\n",
       "      <th>Not Defined</th>\n",
       "      <td>457</td>\n",
       "      <td>21.335201</td>\n",
       "      <td>3409434</td>\n",
       "      <td>1228719</td>\n",
       "      <td>14.954048</td>\n",
       "      <td>10.363239</td>\n",
       "      <td>7460.468271</td>\n",
       "      <td>2688.663020</td>\n",
       "    </tr>\n",
       "    <tr>\n",
       "      <th>Golden Retriever</th>\n",
       "      <td>158</td>\n",
       "      <td>7.376284</td>\n",
       "      <td>1946405</td>\n",
       "      <td>585506</td>\n",
       "      <td>12.943038</td>\n",
       "      <td>11.265823</td>\n",
       "      <td>12319.018987</td>\n",
       "      <td>3705.734177</td>\n",
       "    </tr>\n",
       "    <tr>\n",
       "      <th>Labrador Retriever</th>\n",
       "      <td>108</td>\n",
       "      <td>5.042017</td>\n",
       "      <td>1262718</td>\n",
       "      <td>402389</td>\n",
       "      <td>13.638889</td>\n",
       "      <td>12.222222</td>\n",
       "      <td>11691.833333</td>\n",
       "      <td>3725.824074</td>\n",
       "    </tr>\n",
       "    <tr>\n",
       "      <th>Pembroke</th>\n",
       "      <td>95</td>\n",
       "      <td>4.435107</td>\n",
       "      <td>1040459</td>\n",
       "      <td>290206</td>\n",
       "      <td>11.410526</td>\n",
       "      <td>10.000000</td>\n",
       "      <td>10952.200000</td>\n",
       "      <td>3054.800000</td>\n",
       "    </tr>\n",
       "    <tr>\n",
       "      <th>Chihuahua</th>\n",
       "      <td>91</td>\n",
       "      <td>4.248366</td>\n",
       "      <td>772178</td>\n",
       "      <td>258789</td>\n",
       "      <td>10.549451</td>\n",
       "      <td>10.000000</td>\n",
       "      <td>8485.472527</td>\n",
       "      <td>2843.835165</td>\n",
       "    </tr>\n",
       "  </tbody>\n",
       "</table>\n",
       "</div>"
      ],
      "text/plain": [
       "                    count  count_per  favorite_count_sum  retweet_count_sum  \\\n",
       "Not Defined           457  21.335201             3409434            1228719   \n",
       "Golden Retriever      158   7.376284             1946405             585506   \n",
       "Labrador Retriever    108   5.042017             1262718             402389   \n",
       "Pembroke               95   4.435107             1040459             290206   \n",
       "Chihuahua              91   4.248366              772178             258789   \n",
       "\n",
       "                    rating_num_mean  rating_den_mean  favorite_count_mean  \\\n",
       "Not Defined               14.954048        10.363239          7460.468271   \n",
       "Golden Retriever          12.943038        11.265823         12319.018987   \n",
       "Labrador Retriever        13.638889        12.222222         11691.833333   \n",
       "Pembroke                  11.410526        10.000000         10952.200000   \n",
       "Chihuahua                 10.549451        10.000000          8485.472527   \n",
       "\n",
       "                    retweet_count_mean  \n",
       "Not Defined                2688.663020  \n",
       "Golden Retriever           3705.734177  \n",
       "Labrador Retriever         3725.824074  \n",
       "Pembroke                   3054.800000  \n",
       "Chihuahua                  2843.835165  "
      ]
     },
     "execution_count": 3,
     "metadata": {},
     "output_type": "execute_result"
    }
   ],
   "source": [
    "dog_breed_stats_df.head()"
   ]
  },
  {
   "cell_type": "markdown",
   "metadata": {},
   "source": [
    "If we take a look at the Top 15 most tweeted dog breeds, we will find the following information exemplified in this pie chart. Golden Retrievers take a lead with 18% of Tweets from the Top 15. Eskimo Dog closes the Top 15 with a 2.5% possesion of the Tweets. The insigh is if you want your dog to be featured on the WeRateDogs Twitter account, make sure you own a Golden Retriever, since this will you the best change to do so.\n",
    "\n",
    "![title](output/piechart.png)\n",
    "\n",
    "\n",
    "We will not dive into a more detailed analysis of which breed is the most popular and more Tweeted, on absolute terms and average per number of tweets.\n",
    "\n",
    "From the following two plots we can draw the following conclusion:\n",
    "    \n",
    "    - Being Retweeted more does not grant that it will be favorited/retweeted more\n",
    "    - Case being the Breeds Samoyed, French Bulldog or Cocker Spaniel\n",
    "    - These dog Breeds are very popular amongst people, so it is natural that they get more attention from users\n",
    "    \n",
    "\n",
    "\n",
    "![title](output/Top15favRT.png)"
   ]
  },
  {
   "cell_type": "markdown",
   "metadata": {},
   "source": [
    "Taking that in consideration, let us look at the Mean Favorite and Retweet counts. It can clearly be seen the observation made before.\n",
    "\n",
    "    - The French Bulldog is the most popular dog amongst users.\n",
    "    - They only represent 3.6% of the Author's Tweets, but they tend to be favorited/retweeted the most."
   ]
  },
  {
   "cell_type": "markdown",
   "metadata": {},
   "source": [
    "![title](output/Top15Means.png)"
   ]
  },
  {
   "cell_type": "markdown",
   "metadata": {},
   "source": [
    "Although the rating give by the author is not very accurate or a measurable unit, we can still show it here, since it is one of the best features of this Tweet page.\n",
    "\n",
    "    - The Author of the page tends to give the best ratings to the Breed Chow\n",
    "    - Although it also gives it a higher denominator, so the ratio is kept\n",
    "    - It seems that the Pomeranian has the best rating"
   ]
  },
  {
   "cell_type": "markdown",
   "metadata": {},
   "source": [
    "![title](output/Top15RatMeans.png)"
   ]
  },
  {
   "cell_type": "markdown",
   "metadata": {},
   "source": [
    "Bellow it is shown almost the same information has before, but now sorted by the Mean Favorited Dog Breed.\n",
    "    \n",
    "    - The French Bulldog, has seen, is the best Favorited Mean\n",
    "    - Having the best Favorite Mean does not grant the best Retweet Mean\n",
    "    - Same applies to the contrary relation (Seen bellow)"
   ]
  },
  {
   "cell_type": "markdown",
   "metadata": {},
   "source": [
    "![title](output/Top15BreedMeanFav.png)"
   ]
  },
  {
   "cell_type": "markdown",
   "metadata": {},
   "source": [
    "![title](output/Top15BreedMeanRT.png)"
   ]
  },
  {
   "cell_type": "markdown",
   "metadata": {},
   "source": [
    "![title](output/Top15BreedMeanRating.png)"
   ]
  },
  {
   "cell_type": "markdown",
   "metadata": {},
   "source": [
    "The following plots will show:\n",
    "    \n",
    "       - Sorted by Most Favorited Dog Breeds\n",
    "       - Sorted by Most Retweeted Dog Breeds"
   ]
  },
  {
   "cell_type": "markdown",
   "metadata": {},
   "source": [
    "![title](output/Top15MostFav.png)"
   ]
  },
  {
   "cell_type": "markdown",
   "metadata": {},
   "source": [
    "![title](output/Top15MostRT.png)"
   ]
  },
  {
   "cell_type": "markdown",
   "metadata": {},
   "source": [
    "## Most Popular Dog Breed\n",
    "\n",
    "Taking in consideration all shown above, we can say that the most Popular Breeds are the following, in no particular order.\n",
    "\n",
    "    - Samoyed                     \n",
    "    - Eskimo Dog                  \n",
    "    - Pembroke                    \n",
    "    - Malamute                    \n",
    "    - Labrador Retriever          \n",
    "    - Chow                        \n",
    "    - Golden Retriever            \n",
    "    - Cocker Spaniel              \n",
    "    - Toy Poodle                  \n",
    "    - Chesapeake Bay Retriever    \n",
    "    - French Bulldog              \n",
    "    - Pomeranian                  \n",
    "    - Chihuahua                   \n",
    "    - Pug                         \n",
    "\n",
    "These dog Breeds show up on every plot shown above, which have all sorts of different measureable analytics. If one takes in consideration just the average Favorited/Retweets, one has to say that the French Bulldog will be the most popula dog Breed amongst users."
   ]
  },
  {
   "cell_type": "markdown",
   "metadata": {},
   "source": [
    "# Analysis by Dog Stage (Puppo, Floofer, Doggo, Pupper)"
   ]
  },
  {
   "cell_type": "code",
   "execution_count": 3,
   "metadata": {},
   "outputs": [
    {
     "data": {
      "text/html": [
       "<div>\n",
       "<style>\n",
       "    .dataframe thead tr:only-child th {\n",
       "        text-align: right;\n",
       "    }\n",
       "\n",
       "    .dataframe thead th {\n",
       "        text-align: left;\n",
       "    }\n",
       "\n",
       "    .dataframe tbody tr th {\n",
       "        vertical-align: top;\n",
       "    }\n",
       "</style>\n",
       "<table border=\"1\" class=\"dataframe\">\n",
       "  <thead>\n",
       "    <tr style=\"text-align: right;\">\n",
       "      <th></th>\n",
       "      <th>count</th>\n",
       "      <th>count_per</th>\n",
       "      <th>favorite_count_sum</th>\n",
       "      <th>retweet_count_sum</th>\n",
       "      <th>rating_num_mean</th>\n",
       "      <th>rating_den_mean</th>\n",
       "      <th>favorite_count_mean</th>\n",
       "      <th>retweet_count_mean</th>\n",
       "    </tr>\n",
       "  </thead>\n",
       "  <tbody>\n",
       "    <tr>\n",
       "      <th>not_defined</th>\n",
       "      <td>1802</td>\n",
       "      <td>84.126984</td>\n",
       "      <td>15324184</td>\n",
       "      <td>4697720</td>\n",
       "      <td>12.402331</td>\n",
       "      <td>10.569367</td>\n",
       "      <td>8503.986681</td>\n",
       "      <td>2606.947836</td>\n",
       "    </tr>\n",
       "    <tr>\n",
       "      <th>pupper</th>\n",
       "      <td>224</td>\n",
       "      <td>10.457516</td>\n",
       "      <td>1593158</td>\n",
       "      <td>543738</td>\n",
       "      <td>10.808036</td>\n",
       "      <td>10.000000</td>\n",
       "      <td>7112.312500</td>\n",
       "      <td>2427.401786</td>\n",
       "    </tr>\n",
       "    <tr>\n",
       "      <th>doggo</th>\n",
       "      <td>84</td>\n",
       "      <td>3.921569</td>\n",
       "      <td>1472466</td>\n",
       "      <td>531492</td>\n",
       "      <td>11.761905</td>\n",
       "      <td>10.000000</td>\n",
       "      <td>17529.357143</td>\n",
       "      <td>6327.285714</td>\n",
       "    </tr>\n",
       "    <tr>\n",
       "      <th>puppo</th>\n",
       "      <td>23</td>\n",
       "      <td>1.073763</td>\n",
       "      <td>502427</td>\n",
       "      <td>151511</td>\n",
       "      <td>12.000000</td>\n",
       "      <td>10.000000</td>\n",
       "      <td>21844.652174</td>\n",
       "      <td>6587.434783</td>\n",
       "    </tr>\n",
       "    <tr>\n",
       "      <th>floofer</th>\n",
       "      <td>9</td>\n",
       "      <td>0.420168</td>\n",
       "      <td>98663</td>\n",
       "      <td>36898</td>\n",
       "      <td>11.888889</td>\n",
       "      <td>10.000000</td>\n",
       "      <td>10962.555556</td>\n",
       "      <td>4099.777778</td>\n",
       "    </tr>\n",
       "  </tbody>\n",
       "</table>\n",
       "</div>"
      ],
      "text/plain": [
       "             count  count_per  favorite_count_sum  retweet_count_sum  \\\n",
       "not_defined   1802  84.126984            15324184            4697720   \n",
       "pupper         224  10.457516             1593158             543738   \n",
       "doggo           84   3.921569             1472466             531492   \n",
       "puppo           23   1.073763              502427             151511   \n",
       "floofer          9   0.420168               98663              36898   \n",
       "\n",
       "             rating_num_mean  rating_den_mean  favorite_count_mean  \\\n",
       "not_defined        12.402331        10.569367          8503.986681   \n",
       "pupper             10.808036        10.000000          7112.312500   \n",
       "doggo              11.761905        10.000000         17529.357143   \n",
       "puppo              12.000000        10.000000         21844.652174   \n",
       "floofer            11.888889        10.000000         10962.555556   \n",
       "\n",
       "             retweet_count_mean  \n",
       "not_defined         2606.947836  \n",
       "pupper              2427.401786  \n",
       "doggo               6327.285714  \n",
       "puppo               6587.434783  \n",
       "floofer             4099.777778  "
      ]
     },
     "execution_count": 3,
     "metadata": {},
     "output_type": "execute_result"
    }
   ],
   "source": [
    "dog_stages_stats_df"
   ]
  },
  {
   "cell_type": "markdown",
   "metadata": {},
   "source": [
    "Let us now focus on influence of the dog stage on the statistics of the tweets. Unfortunately, we do no have a lot of observations to draw conclusions from, so this will be a rather limited analysis. Please refer to the bar graphs bellow. \n",
    "\n",
    "    - Puppos are definetely the most popular amongst users. On average they tend to be Favorited and Retweeted more than any other stage.\n",
    "\n",
    "    - The owner of the page tends to give the same rating to all stages, a little bit less to puppers."
   ]
  },
  {
   "cell_type": "markdown",
   "metadata": {},
   "source": [
    "![title](output/DogStageMostMean.png)"
   ]
  },
  {
   "cell_type": "markdown",
   "metadata": {},
   "source": [
    "If we look at the absolute numbers, we can see that:\n",
    "\n",
    "    - The author is biased to post Puppers, or at least to refer to dogs has Puppers on the posts. \n",
    "            It far exceeds any other dog stage posted\n",
    "    \n",
    "    - Despite that fact, users tend to Favorite and Retweet almost equally Puppers and Doggos. \n",
    "            Puppos and Floofers get very little love from Tweeter users on absolute terms, but this is due tot he fact that there are very little posts mentioning them."
   ]
  },
  {
   "cell_type": "markdown",
   "metadata": {},
   "source": [
    "![title](output/DogStageMostRTFav.png)"
   ]
  },
  {
   "cell_type": "markdown",
   "metadata": {},
   "source": [
    "# Analysis by Weekday"
   ]
  },
  {
   "cell_type": "code",
   "execution_count": 4,
   "metadata": {},
   "outputs": [
    {
     "data": {
      "text/html": [
       "<div>\n",
       "<style>\n",
       "    .dataframe thead tr:only-child th {\n",
       "        text-align: right;\n",
       "    }\n",
       "\n",
       "    .dataframe thead th {\n",
       "        text-align: left;\n",
       "    }\n",
       "\n",
       "    .dataframe tbody tr th {\n",
       "        vertical-align: top;\n",
       "    }\n",
       "</style>\n",
       "<table border=\"1\" class=\"dataframe\">\n",
       "  <thead>\n",
       "    <tr style=\"text-align: right;\">\n",
       "      <th></th>\n",
       "      <th>count</th>\n",
       "      <th>count_per</th>\n",
       "      <th>favorite_count_sum</th>\n",
       "      <th>retweet_count_sum</th>\n",
       "      <th>rating_num_mean</th>\n",
       "      <th>rating_den_mean</th>\n",
       "      <th>favorite_count_mean</th>\n",
       "      <th>retweet_count_mean</th>\n",
       "    </tr>\n",
       "  </thead>\n",
       "  <tbody>\n",
       "    <tr>\n",
       "      <th>Sunday</th>\n",
       "      <td>274</td>\n",
       "      <td>12.791783</td>\n",
       "      <td>2371771</td>\n",
       "      <td>723797</td>\n",
       "      <td>13.007299</td>\n",
       "      <td>10.912409</td>\n",
       "      <td>8656.098540</td>\n",
       "      <td>2641.594891</td>\n",
       "    </tr>\n",
       "    <tr>\n",
       "      <th>Monday</th>\n",
       "      <td>356</td>\n",
       "      <td>16.619981</td>\n",
       "      <td>3044433</td>\n",
       "      <td>953858</td>\n",
       "      <td>15.452247</td>\n",
       "      <td>10.112360</td>\n",
       "      <td>8551.778090</td>\n",
       "      <td>2679.376404</td>\n",
       "    </tr>\n",
       "    <tr>\n",
       "      <th>Tuesday</th>\n",
       "      <td>319</td>\n",
       "      <td>14.892624</td>\n",
       "      <td>2845248</td>\n",
       "      <td>863390</td>\n",
       "      <td>11.454545</td>\n",
       "      <td>10.689655</td>\n",
       "      <td>8919.272727</td>\n",
       "      <td>2706.551724</td>\n",
       "    </tr>\n",
       "    <tr>\n",
       "      <th>Wednesday</th>\n",
       "      <td>319</td>\n",
       "      <td>14.892624</td>\n",
       "      <td>3197782</td>\n",
       "      <td>1023370</td>\n",
       "      <td>10.626959</td>\n",
       "      <td>10.094044</td>\n",
       "      <td>10024.394984</td>\n",
       "      <td>3208.056426</td>\n",
       "    </tr>\n",
       "    <tr>\n",
       "      <th>Thursday</th>\n",
       "      <td>302</td>\n",
       "      <td>14.098973</td>\n",
       "      <td>2506778</td>\n",
       "      <td>772863</td>\n",
       "      <td>11.503311</td>\n",
       "      <td>10.463576</td>\n",
       "      <td>8300.589404</td>\n",
       "      <td>2559.149007</td>\n",
       "    </tr>\n",
       "    <tr>\n",
       "      <th>Friday</th>\n",
       "      <td>298</td>\n",
       "      <td>13.912232</td>\n",
       "      <td>2582356</td>\n",
       "      <td>825072</td>\n",
       "      <td>12.181208</td>\n",
       "      <td>11.161074</td>\n",
       "      <td>8665.624161</td>\n",
       "      <td>2768.697987</td>\n",
       "    </tr>\n",
       "    <tr>\n",
       "      <th>Saturday</th>\n",
       "      <td>274</td>\n",
       "      <td>12.791783</td>\n",
       "      <td>2442530</td>\n",
       "      <td>799009</td>\n",
       "      <td>10.686131</td>\n",
       "      <td>10.000000</td>\n",
       "      <td>8914.343066</td>\n",
       "      <td>2916.091241</td>\n",
       "    </tr>\n",
       "  </tbody>\n",
       "</table>\n",
       "</div>"
      ],
      "text/plain": [
       "           count  count_per  favorite_count_sum  retweet_count_sum  \\\n",
       "Sunday       274  12.791783             2371771             723797   \n",
       "Monday       356  16.619981             3044433             953858   \n",
       "Tuesday      319  14.892624             2845248             863390   \n",
       "Wednesday    319  14.892624             3197782            1023370   \n",
       "Thursday     302  14.098973             2506778             772863   \n",
       "Friday       298  13.912232             2582356             825072   \n",
       "Saturday     274  12.791783             2442530             799009   \n",
       "\n",
       "           rating_num_mean  rating_den_mean  favorite_count_mean  \\\n",
       "Sunday           13.007299        10.912409          8656.098540   \n",
       "Monday           15.452247        10.112360          8551.778090   \n",
       "Tuesday          11.454545        10.689655          8919.272727   \n",
       "Wednesday        10.626959        10.094044         10024.394984   \n",
       "Thursday         11.503311        10.463576          8300.589404   \n",
       "Friday           12.181208        11.161074          8665.624161   \n",
       "Saturday         10.686131        10.000000          8914.343066   \n",
       "\n",
       "           retweet_count_mean  \n",
       "Sunday            2641.594891  \n",
       "Monday            2679.376404  \n",
       "Tuesday           2706.551724  \n",
       "Wednesday         3208.056426  \n",
       "Thursday          2559.149007  \n",
       "Friday            2768.697987  \n",
       "Saturday          2916.091241  "
      ]
     },
     "execution_count": 4,
     "metadata": {},
     "output_type": "execute_result"
    }
   ],
   "source": [
    "weekday_stats_df"
   ]
  },
  {
   "cell_type": "markdown",
   "metadata": {},
   "source": [
    "Let us now focus on each particular day of the week and its influence on our data. Bellow is shown that bar graph for each day of the week and a respective statistic. On the first set we can infer the following:\n",
    "\n",
    "- The owner of the page posts the most on Mondays. 16.6% of the posts occur on a Monday versus 12.8% on Sunday and Saturday, the day he posts the least.\n",
    "\n",
    "- People tend to like (Favorite) his posts more on Wednesdays.\n",
    "\n",
    "- People Retweet his posts more on Wednesdays\n",
    "\n",
    "One can say that users tend to like/retweet his posts with two days lag or that posting more does not grant an increased activity in Favorites and Reteweets."
   ]
  },
  {
   "cell_type": "markdown",
   "metadata": {},
   "source": [
    "![title](output/WeekdayCountRTFav.png)"
   ]
  },
  {
   "cell_type": "markdown",
   "metadata": {},
   "source": [
    "Furthering the analysis by weekday, please refer to the plots bellow:\n",
    "\n",
    "- The average Favorite and Retweet (Average per Tweet) are higher on Wednesdays. This serves as extra confirmation of what was mentioned above.\n",
    "\n",
    "- The author of the page tends to give better ratings to dogs on Mondays, on average. "
   ]
  },
  {
   "cell_type": "markdown",
   "metadata": {},
   "source": [
    "![title](output/WeekdayMeanCountRTFav.png)"
   ]
  },
  {
   "cell_type": "markdown",
   "metadata": {},
   "source": [
    "# Best Tweets"
   ]
  },
  {
   "cell_type": "markdown",
   "metadata": {},
   "source": [
    "## Most Favorited Tweet"
   ]
  },
  {
   "cell_type": "markdown",
   "metadata": {},
   "source": [
    "The most favorited Tweet was of a Lakeland Terrier, Puppo stage. Analysing the tweet, one can explain why this got the most Favorites. This was tweeted one day after President Trump assumed the Presidency, on Jannuary 21st 2017, during a #Womensmarch. This was a highly controversial period when people turned to the Social Media and were highly active with the use of popular hashtags.\n",
    "\n",
    "Refer to the table bellow with the Top 5 Most Favorited Tweets."
   ]
  },
  {
   "cell_type": "code",
   "execution_count": 5,
   "metadata": {},
   "outputs": [
    {
     "data": {
      "text/html": [
       "<div>\n",
       "<style>\n",
       "    .dataframe thead tr:only-child th {\n",
       "        text-align: right;\n",
       "    }\n",
       "\n",
       "    .dataframe thead th {\n",
       "        text-align: left;\n",
       "    }\n",
       "\n",
       "    .dataframe tbody tr th {\n",
       "        vertical-align: top;\n",
       "    }\n",
       "</style>\n",
       "<table border=\"1\" class=\"dataframe\">\n",
       "  <thead>\n",
       "    <tr style=\"text-align: right;\">\n",
       "      <th></th>\n",
       "      <th>created_at</th>\n",
       "      <th>favorite_count</th>\n",
       "      <th>retweet_count</th>\n",
       "      <th>name</th>\n",
       "      <th>url</th>\n",
       "      <th>rating_num</th>\n",
       "      <th>dog_stage</th>\n",
       "      <th>breed</th>\n",
       "    </tr>\n",
       "  </thead>\n",
       "  <tbody>\n",
       "    <tr>\n",
       "      <th>331</th>\n",
       "      <td>2017-01-21 18:26:02</td>\n",
       "      <td>131574</td>\n",
       "      <td>47597</td>\n",
       "      <td>Not Defined</td>\n",
       "      <td>https://t.co/nTz3FtorBc</td>\n",
       "      <td>13</td>\n",
       "      <td>puppo</td>\n",
       "      <td>Lakeland Terrier</td>\n",
       "    </tr>\n",
       "    <tr>\n",
       "      <th>838</th>\n",
       "      <td>2016-06-18 18:26:18</td>\n",
       "      <td>129874</td>\n",
       "      <td>78618</td>\n",
       "      <td>Not Defined</td>\n",
       "      <td>https://t.co/7wE9LTEXC4</td>\n",
       "      <td>13</td>\n",
       "      <td>doggo</td>\n",
       "      <td>Labrador Retriever</td>\n",
       "    </tr>\n",
       "    <tr>\n",
       "      <th>427</th>\n",
       "      <td>2016-12-09 06:17:20</td>\n",
       "      <td>124066</td>\n",
       "      <td>62106</td>\n",
       "      <td>Stephan</td>\n",
       "      <td>https://t.co/DkBYaCAg2d</td>\n",
       "      <td>13</td>\n",
       "      <td>not_defined</td>\n",
       "      <td>Chihuahua</td>\n",
       "    </tr>\n",
       "    <tr>\n",
       "      <th>60</th>\n",
       "      <td>2017-06-26 19:07:24</td>\n",
       "      <td>107226</td>\n",
       "      <td>45362</td>\n",
       "      <td>Duddles</td>\n",
       "      <td>https://t.co/UDT7ZkcTgY</td>\n",
       "      <td>13</td>\n",
       "      <td>not_defined</td>\n",
       "      <td>English Springer</td>\n",
       "    </tr>\n",
       "    <tr>\n",
       "      <th>115</th>\n",
       "      <td>2017-05-22 00:28:40</td>\n",
       "      <td>105941</td>\n",
       "      <td>32475</td>\n",
       "      <td>Jamesy</td>\n",
       "      <td>https://t.co/wk7TfysWHr</td>\n",
       "      <td>13</td>\n",
       "      <td>pupper</td>\n",
       "      <td>French Bulldog</td>\n",
       "    </tr>\n",
       "  </tbody>\n",
       "</table>\n",
       "</div>"
      ],
      "text/plain": [
       "              created_at  favorite_count  retweet_count         name  \\\n",
       "331  2017-01-21 18:26:02          131574          47597  Not Defined   \n",
       "838  2016-06-18 18:26:18          129874          78618  Not Defined   \n",
       "427  2016-12-09 06:17:20          124066          62106      Stephan   \n",
       "60   2017-06-26 19:07:24          107226          45362      Duddles   \n",
       "115  2017-05-22 00:28:40          105941          32475       Jamesy   \n",
       "\n",
       "                         url  rating_num    dog_stage               breed  \n",
       "331  https://t.co/nTz3FtorBc          13        puppo    Lakeland Terrier  \n",
       "838  https://t.co/7wE9LTEXC4          13        doggo  Labrador Retriever  \n",
       "427  https://t.co/DkBYaCAg2d          13  not_defined           Chihuahua  \n",
       "60   https://t.co/UDT7ZkcTgY          13  not_defined    English Springer  \n",
       "115  https://t.co/wk7TfysWHr          13       pupper      French Bulldog  "
      ]
     },
     "execution_count": 5,
     "metadata": {},
     "output_type": "execute_result"
    }
   ],
   "source": [
    "twitter_archive_master.sort_values(by=['favorite_count'], ascending = False).head()[['created_at','favorite_count','retweet_count','name','url','rating_num','dog_stage','breed' ]]"
   ]
  },
  {
   "cell_type": "markdown",
   "metadata": {},
   "source": [
    "## Most Retweeted Tweet"
   ]
  },
  {
   "cell_type": "markdown",
   "metadata": {},
   "source": [
    "The most Retweeted was a video of an adorable Labrador Retriever in the Doggo Stage. This tweet did not use any special hashtags nor was posted during a particular special time. This proves that Tweets can go viral with good content and quality, such is in this video, completely worth watching it.\n",
    "\n",
    "Refer to the table bellow with the Top 5 Most Retweeted Tweets."
   ]
  },
  {
   "cell_type": "code",
   "execution_count": 6,
   "metadata": {},
   "outputs": [
    {
     "data": {
      "text/html": [
       "<div>\n",
       "<style>\n",
       "    .dataframe thead tr:only-child th {\n",
       "        text-align: right;\n",
       "    }\n",
       "\n",
       "    .dataframe thead th {\n",
       "        text-align: left;\n",
       "    }\n",
       "\n",
       "    .dataframe tbody tr th {\n",
       "        vertical-align: top;\n",
       "    }\n",
       "</style>\n",
       "<table border=\"1\" class=\"dataframe\">\n",
       "  <thead>\n",
       "    <tr style=\"text-align: right;\">\n",
       "      <th></th>\n",
       "      <th>created_at</th>\n",
       "      <th>favorite_count</th>\n",
       "      <th>retweet_count</th>\n",
       "      <th>name</th>\n",
       "      <th>url</th>\n",
       "      <th>rating_num</th>\n",
       "      <th>dog_stage</th>\n",
       "      <th>breed</th>\n",
       "    </tr>\n",
       "  </thead>\n",
       "  <tbody>\n",
       "    <tr>\n",
       "      <th>838</th>\n",
       "      <td>2016-06-18 18:26:18</td>\n",
       "      <td>129874</td>\n",
       "      <td>78618</td>\n",
       "      <td>Not Defined</td>\n",
       "      <td>https://t.co/7wE9LTEXC4</td>\n",
       "      <td>13</td>\n",
       "      <td>doggo</td>\n",
       "      <td>Labrador Retriever</td>\n",
       "    </tr>\n",
       "    <tr>\n",
       "      <th>427</th>\n",
       "      <td>2016-12-09 06:17:20</td>\n",
       "      <td>124066</td>\n",
       "      <td>62106</td>\n",
       "      <td>Stephan</td>\n",
       "      <td>https://t.co/DkBYaCAg2d</td>\n",
       "      <td>13</td>\n",
       "      <td>not_defined</td>\n",
       "      <td>Chihuahua</td>\n",
       "    </tr>\n",
       "    <tr>\n",
       "      <th>877</th>\n",
       "      <td>2016-06-04 23:31:25</td>\n",
       "      <td>74352</td>\n",
       "      <td>51738</td>\n",
       "      <td>Not Defined</td>\n",
       "      <td>https://t.co/YcXgHfp1EC</td>\n",
       "      <td>13</td>\n",
       "      <td>doggo</td>\n",
       "      <td>Eskimo Dog</td>\n",
       "    </tr>\n",
       "    <tr>\n",
       "      <th>331</th>\n",
       "      <td>2017-01-21 18:26:02</td>\n",
       "      <td>131574</td>\n",
       "      <td>47597</td>\n",
       "      <td>Not Defined</td>\n",
       "      <td>https://t.co/nTz3FtorBc</td>\n",
       "      <td>13</td>\n",
       "      <td>puppo</td>\n",
       "      <td>Lakeland Terrier</td>\n",
       "    </tr>\n",
       "    <tr>\n",
       "      <th>60</th>\n",
       "      <td>2017-06-26 19:07:24</td>\n",
       "      <td>107226</td>\n",
       "      <td>45362</td>\n",
       "      <td>Duddles</td>\n",
       "      <td>https://t.co/UDT7ZkcTgY</td>\n",
       "      <td>13</td>\n",
       "      <td>not_defined</td>\n",
       "      <td>English Springer</td>\n",
       "    </tr>\n",
       "  </tbody>\n",
       "</table>\n",
       "</div>"
      ],
      "text/plain": [
       "              created_at  favorite_count  retweet_count         name  \\\n",
       "838  2016-06-18 18:26:18          129874          78618  Not Defined   \n",
       "427  2016-12-09 06:17:20          124066          62106      Stephan   \n",
       "877  2016-06-04 23:31:25           74352          51738  Not Defined   \n",
       "331  2017-01-21 18:26:02          131574          47597  Not Defined   \n",
       "60   2017-06-26 19:07:24          107226          45362      Duddles   \n",
       "\n",
       "                         url  rating_num    dog_stage               breed  \n",
       "838  https://t.co/7wE9LTEXC4          13        doggo  Labrador Retriever  \n",
       "427  https://t.co/DkBYaCAg2d          13  not_defined           Chihuahua  \n",
       "877  https://t.co/YcXgHfp1EC          13        doggo          Eskimo Dog  \n",
       "331  https://t.co/nTz3FtorBc          13        puppo    Lakeland Terrier  \n",
       "60   https://t.co/UDT7ZkcTgY          13  not_defined    English Springer  "
      ]
     },
     "execution_count": 6,
     "metadata": {},
     "output_type": "execute_result"
    }
   ],
   "source": [
    "twitter_archive_master.sort_values(by=['retweet_count'], ascending = False).head()[['created_at','favorite_count','retweet_count','name','url','rating_num','dog_stage','breed' ]]"
   ]
  },
  {
   "cell_type": "markdown",
   "metadata": {},
   "source": [
    "# Final Remarks\n",
    "\n",
    "After this careful and extensive analysis, we can offer the following insights to increase the odds to the users that pretend to be featured on the WeRateDogs page and have his dog seen by the world:\n",
    "\n",
    "    - Having a Golden Retriever or Labrador Retriever in the Pupper stage\n",
    "    - On Mondays the Author will Tweet the most\n",
    "    - Tweets are more Favorited/Retweeted on Wednesdays\n",
    "    - Author tends to give better Ratings on Mondays\n",
    "    - Having a French Bulldog seems to be popular amongst Twitter Users\n",
    "    - Puppos tend to be Favorited/Retweeted the most on average by Users\n",
    "    - Use of particular hashtags that are viral due to the circumstance of the season"
   ]
  }
 ],
 "metadata": {
  "kernelspec": {
   "display_name": "Python 3",
   "language": "python",
   "name": "python3"
  },
  "language_info": {
   "codemirror_mode": {
    "name": "ipython",
    "version": 3
   },
   "file_extension": ".py",
   "mimetype": "text/x-python",
   "name": "python",
   "nbconvert_exporter": "python",
   "pygments_lexer": "ipython3",
   "version": "3.6.3"
  }
 },
 "nbformat": 4,
 "nbformat_minor": 2
}
